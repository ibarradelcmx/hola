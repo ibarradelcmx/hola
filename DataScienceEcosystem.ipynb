{
 "cells": [
  {
   "cell_type": "markdown",
   "id": "a456a6a0-1a50-48a7-892a-aac29f2d0b0d",
   "metadata": {},
   "source": [
    "# Data Science Tools and Ecosystem"
   ]
  },
  {
   "cell_type": "markdown",
   "id": "6bf82b60-6d58-4c79-b7ca-a1216791e3f4",
   "metadata": {},
   "source": [
    "## In this notebook, Data Science Tools and Ecosystem are summarized.\n"
   ]
  },
  {
   "cell_type": "markdown",
   "id": "020b1fca-75ef-46ff-b53d-08f8e7c6682c",
   "metadata": {},
   "source": [
    "## **Objectives**:\n",
    "- List popular languages in Data Science\n",
    "- Common used libraries in Data Science\n",
    "- Examples of Arithmetic expressions"
   ]
  },
  {
   "cell_type": "markdown",
   "id": "99f1b2ce-a359-40c8-b06d-1cfa3ecd33f0",
   "metadata": {},
   "source": [
    "### Some of the popular languages that Data Scientists use are:\n",
    "1. Python\n",
    "2. R\n",
    "3. Julia"
   ]
  },
  {
   "cell_type": "markdown",
   "id": "5939e54a-1712-4340-b58e-e3db02fa544e",
   "metadata": {},
   "source": [
    "### Some of the commonly used libraries used by Data Scientists include:\n",
    "1. Pandas\n",
    "2. NumPy\n",
    "3. Keras"
   ]
  },
  {
   "cell_type": "markdown",
   "id": "1e67de01-cd1d-4ff1-8bc3-fe714d43aa73",
   "metadata": {},
   "source": [
    "| Data Science Tools | \n",
    "|:--------:|\n",
    "|  Pandas   | \n",
    "|  Spark   | \n",
    "|  MLFlow   | "
   ]
  },
  {
   "cell_type": "markdown",
   "id": "45ac5f1b-4421-4d96-960b-f86a8a2cf640",
   "metadata": {},
   "source": [
    "### Below are a few examples of evaluating arithmetic expressions in Python"
   ]
  },
  {
   "cell_type": "markdown",
   "id": "bebb5e32-6e8e-4c05-a4bb-a48031b38e30",
   "metadata": {},
   "source": [
    "#### This a simple arithmetic expression to mutiply then add integers"
   ]
  },
  {
   "cell_type": "code",
   "execution_count": 31,
   "id": "074a4355-a512-4487-a41b-41a2ca6a4716",
   "metadata": {},
   "outputs": [
    {
     "data": {
      "text/plain": [
       "17"
      ]
     },
     "execution_count": 31,
     "metadata": {},
     "output_type": "execute_result"
    }
   ],
   "source": [
    "(3*4)+5"
   ]
  },
  {
   "cell_type": "markdown",
   "id": "24565338-d7bd-47a1-93fb-db5e1bfb0234",
   "metadata": {},
   "source": [
    "#### This will convert 200 minutes to hours by diving by 60"
   ]
  },
  {
   "cell_type": "code",
   "execution_count": 38,
   "id": "0bc99aca-c2fb-4502-ad4b-f91bdadf82da",
   "metadata": {},
   "outputs": [
    {
     "data": {
      "text/plain": [
       "3.3333333333333335"
      ]
     },
     "execution_count": 38,
     "metadata": {},
     "output_type": "execute_result"
    }
   ],
   "source": [
    "200/60"
   ]
  },
  {
   "cell_type": "markdown",
   "id": "3a63e946-c918-4b0f-b12a-e1dbfa944364",
   "metadata": {},
   "source": [
    "## Author: \n",
    "Alejandro Ibarra"
   ]
  },
  {
   "cell_type": "code",
   "execution_count": null,
   "id": "b0d9838d-e7a5-4941-885c-775b765f2235",
   "metadata": {},
   "outputs": [],
   "source": []
  }
 ],
 "metadata": {
  "kernelspec": {
   "display_name": "Python 3 (ipykernel)",
   "language": "python",
   "name": "python3"
  },
  "language_info": {
   "codemirror_mode": {
    "name": "ipython",
    "version": 3
   },
   "file_extension": ".py",
   "mimetype": "text/x-python",
   "name": "python",
   "nbconvert_exporter": "python",
   "pygments_lexer": "ipython3",
   "version": "3.12.4"
  }
 },
 "nbformat": 4,
 "nbformat_minor": 5
}
